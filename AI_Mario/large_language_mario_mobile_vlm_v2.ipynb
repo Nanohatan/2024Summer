{
  "cells": [
    {
      "cell_type": "markdown",
      "metadata": {
        "id": "view-in-github"
      },
      "source": [
        "<a href=\"https://colab.research.google.com/github/karaage0703/mario-ai-challenge/blob/main/colab_notebooks/large_language_mario_mobile_vlm_v2.ipynb\" target=\"_parent\"><img src=\"https://colab.research.google.com/assets/colab-badge.svg\" alt=\"Open In Colab\"/></a>"
      ]
    },
    {
      "cell_type": "markdown",
      "metadata": {
        "id": "7uV4DXW7Twmn"
      },
      "source": [
        "# Large Language Mario\n",
        "\n",
        "LLMを使ってマリオをプレイするチャレンジ"
      ]
    },
    {
      "cell_type": "markdown",
      "metadata": {
        "id": "sp7cIywprfIH"
      },
      "source": [
        "## 必要なライブラリのインストールとインポート\n",
        "AIマリオに必要なライブラリのインストールとインポートを行います。"
      ]
    },
    {
      "cell_type": "markdown",
      "metadata": {
        "id": "RPnAHd9WeQkz"
      },
      "source": [
        "[OpenAI Gymのマリオ用パッケージ](https://github.com/Kautenja/gym-super-mario-bros)をインストールします。強化学習の環境として使用します。詳細の仕様は[GitHub](https://github.com/Kautenja/gym-super-mario-bros)参照ください。\n"
      ]
    },
    {
      "cell_type": "code",
      "execution_count": null,
      "metadata": {
        "id": "bkd4mMOAUbt1"
      },
      "outputs": [],
      "source": [
        "!pip install -qqq gym-super-mario-bros==7.3.0"
      ]
    },
    {
      "cell_type": "markdown",
      "metadata": {
        "id": "vtY9MC-Vq-Hv"
      },
      "source": [
        "その他、必要なライブラリをインストールします。"
      ]
    },
    {
      "cell_type": "code",
      "execution_count": null,
      "metadata": {
        "id": "zMBp7lLX5b4t"
      },
      "outputs": [],
      "source": [
        "!apt -qq update\n",
        "!apt install -y -qq xvfb\n",
        "!pip install -qqq pyvirtualdisplay"
      ]
    },
    {
      "cell_type": "code",
      "source": [
        "# Mobile VLM V2用\n",
        "!pip install timm==0.9.12"
      ],
      "metadata": {
        "id": "CWrbGZz7ZShS"
      },
      "execution_count": null,
      "outputs": []
    },
    {
      "cell_type": "markdown",
      "source": [
        "## MobileVLM準備"
      ],
      "metadata": {
        "id": "b6Bd5cLzbjRw"
      }
    },
    {
      "cell_type": "code",
      "source": [
        "!git clone https://github.com/Meituan-AutoML/MobileVLM.git\n",
        "# !git clone --single-branch https://github.com/Meituan-AutoML/MobileVLM.git --branch mobilevlm-v1\n",
        "%cd MobileVLM"
      ],
      "metadata": {
        "id": "WGSxOXlIbjR4"
      },
      "execution_count": null,
      "outputs": []
    },
    {
      "cell_type": "markdown",
      "metadata": {
        "id": "gddw9CE-rCer"
      },
      "source": [
        "必要なライブラリをインポートします。"
      ]
    },
    {
      "cell_type": "code",
      "execution_count": 5,
      "metadata": {
        "id": "2HK668vmggdk"
      },
      "outputs": [],
      "source": [
        "# Import the game\n",
        "import gym_super_mario_bros\n",
        "# Import the Joypad wrapper\n",
        "from nes_py.wrappers import JoypadSpace\n",
        "# Import the SIMPLIFIED controls\n",
        "from gym.spaces import Box\n",
        "from gym_super_mario_bros.actions import SIMPLE_MOVEMENT\n",
        "from gym_super_mario_bros.actions import COMPLEX_MOVEMENT\n",
        "from gym_super_mario_bros.actions import RIGHT_ONLY\n",
        "\n",
        "import gym\n",
        "import numpy as np\n",
        "import matplotlib.pyplot as plt\n",
        "from matplotlib.pyplot import imshow\n",
        "import cv2\n",
        "from PIL import Image\n",
        "import requests\n",
        "\n",
        "import os\n",
        "from google.colab import userdata\n",
        "import base64\n",
        "import json"
      ]
    },
    {
      "cell_type": "code",
      "source": [
        "# Mobile VLM V2用\n",
        "import torch\n",
        "\n",
        "from mobilevlm.model.mobilevlm import load_pretrained_model\n",
        "from mobilevlm.conversation import conv_templates, SeparatorStyle\n",
        "from mobilevlm.utils import disable_torch_init, process_images, tokenizer_image_token, KeywordsStoppingCriteria\n",
        "\n",
        "from mobilevlm.constants import IMAGE_TOKEN_INDEX, DEFAULT_IMAGE_TOKEN"
      ],
      "metadata": {
        "id": "BnAOTFj9QuvW"
      },
      "execution_count": null,
      "outputs": []
    },
    {
      "cell_type": "markdown",
      "metadata": {
        "id": "E05HX02Ab4au"
      },
      "source": [
        "## AIマリオ環境の構築\n",
        "\n",
        "AIマリオの環境構築を行います。\n",
        "\n"
      ]
    },
    {
      "cell_type": "markdown",
      "metadata": {
        "id": "kAYJDcRPiMv_"
      },
      "source": [
        "### AIマリオ環境初期化と動作確認\n",
        "環境の確認です。"
      ]
    },
    {
      "cell_type": "code",
      "source": [
        "STAGE_NAME = 'SuperMarioBros-1-1-v0'"
      ],
      "metadata": {
        "id": "MCONES3_i3Rq"
      },
      "execution_count": null,
      "outputs": []
    },
    {
      "cell_type": "code",
      "execution_count": null,
      "metadata": {
        "id": "lP3htmWUPKHL"
      },
      "outputs": [],
      "source": [
        "# マリオ1-1の環境を初期化します。\n",
        "env = gym_super_mario_bros.make(STAGE_NAME)\n",
        "\n",
        "# マリオの行動空間を設定します。\n",
        "# env = JoypadSpace(env, SIMPLE_MOVEMENT)\n",
        "\n",
        "MOVEMENT = [[\"right\"], [\"right\", \"A\"]]\n",
        "env = JoypadSpace(env, MOVEMENT)\n",
        "# env = JoypadSpace(env, COMPLEX_MOVEMENT)\n",
        "# env = JoypadSpace(env, RIGHT_ONLY)"
      ]
    },
    {
      "cell_type": "markdown",
      "metadata": {
        "id": "ArneJLzbsOby"
      },
      "source": [
        "ステージの初期化と行動空間の設定をしています。\n",
        "\n",
        "PyTorchチュートリアルでは、以下のように2パターンに単純化した行動をするマリオに制限されています。\n",
        "\n",
        "```\n",
        "# 行動空間を以下に制限\n",
        "#   0. 右に歩く\n",
        "#   1. 右方向にジャンプ\n",
        "env = JoypadSpace(env, [[\"right\"], [\"right\", \"A\"]])\n",
        "```\n",
        "\n",
        "自分で自由に設定する他、`gym_super_mario_bros`では`SIMPLE_MOVEMENT`, `COMPLEX_MOVEMENT`といった複数のパターンが登録されています。どのようなパターンがあるかは、[gym_super_mario_brosのソースコード](https://github.com/Kautenja/gym-super-mario-bros/blob/master/gym_super_mario_bros/actions.py)を読むか、以下のように中身を`print`して確認する方法があります。\n",
        "\n",
        "L今回は`SIMPLE_MOVEMENT`を採用しています。"
      ]
    },
    {
      "cell_type": "code",
      "execution_count": 9,
      "metadata": {
        "id": "R9UdQXeGxrJx",
        "colab": {
          "base_uri": "https://localhost:8080/"
        },
        "outputId": "75ecc1bc-cf04-4fcc-a62e-a52657f9101e"
      },
      "outputs": [
        {
          "output_type": "stream",
          "name": "stdout",
          "text": [
            "[['NOOP'], ['right'], ['right', 'A'], ['right', 'B'], ['right', 'A', 'B'], ['A'], ['left']]\n",
            "[['NOOP'], ['right'], ['right', 'A'], ['right', 'B'], ['right', 'A', 'B'], ['A'], ['left'], ['left', 'A'], ['left', 'B'], ['left', 'A', 'B'], ['down'], ['up']]\n",
            "[['right'], ['right', 'A']]\n"
          ]
        }
      ],
      "source": [
        "print(SIMPLE_MOVEMENT)\n",
        "print(COMPLEX_MOVEMENT)\n",
        "print(MOVEMENT)"
      ]
    },
    {
      "cell_type": "markdown",
      "metadata": {
        "id": "rnRXtGZZtHy6"
      },
      "source": [
        "環境をリセットして、環境を確認します。\n",
        "\n",
        "`env.step(action=0)`と、エージェント（マリオ）がアクションすると、環境から状態(`state`)と報酬(`reward`)、終了したかのフラグ(`done`)、情報(`info`)が返ってきます。"
      ]
    },
    {
      "cell_type": "code",
      "execution_count": null,
      "metadata": {
        "id": "bgewUGcHtIWj"
      },
      "outputs": [],
      "source": [
        "env.reset()\n",
        "state, reward, done, info = env.step(action=0)\n",
        "\n",
        "print('state:', state.shape)\n",
        "print('reward:', reward)\n",
        "print('done:', done)\n",
        "print('info:', info)"
      ]
    },
    {
      "cell_type": "markdown",
      "metadata": {
        "id": "BTAfyErJtf7Z"
      },
      "source": [
        "行動`action`の範囲や状態`state`の範囲を確認したい場合は、以下を実行してください。\n",
        "\n",
        "```python\n",
        "from gym.spaces import Box, Discrete\n",
        "def print_spaces(space):\n",
        "    print(space)\n",
        "\n",
        "    if isinstance(space, Box):\n",
        "        print('min:', space.low)\n",
        "        print('max:', space.high)\n",
        "    if isinstance(space, Discrete):\n",
        "        print('min:', 0)\n",
        "        print('max:', space.n-1)\n",
        "\n",
        "print('action space------------------')\n",
        "print_spaces(env.action_space)\n",
        "print('observation space------------------')\n",
        "print_spaces(env.observation_space)\n",
        "```"
      ]
    },
    {
      "cell_type": "markdown",
      "metadata": {
        "id": "0rfpE6Gzu17o"
      },
      "source": [
        "最後に`state`を画像として可視化してみます。\n",
        "\n",
        "マリオのプレイ画面であることを確認できます。"
      ]
    },
    {
      "cell_type": "code",
      "execution_count": null,
      "metadata": {
        "id": "OJ-fHsIRe1YF"
      },
      "outputs": [],
      "source": [
        "plt.imshow(state)"
      ]
    },
    {
      "cell_type": "markdown",
      "source": [
        "`state`は`numpy.ndarray'です。"
      ],
      "metadata": {
        "id": "rnQeXLyQg44v"
      }
    },
    {
      "cell_type": "code",
      "source": [
        "print(type(state))"
      ],
      "metadata": {
        "id": "y2ZMV3V9uHVs"
      },
      "execution_count": null,
      "outputs": []
    },
    {
      "cell_type": "markdown",
      "source": [
        "`state`を画像に変換します。"
      ],
      "metadata": {
        "id": "nEzAGZQqPr1f"
      }
    },
    {
      "cell_type": "code",
      "source": [
        "image = Image.fromarray(state)\n",
        "image.save('state.png')"
      ],
      "metadata": {
        "id": "-groX6DZMywD"
      },
      "execution_count": 13,
      "outputs": []
    },
    {
      "cell_type": "markdown",
      "metadata": {
        "id": "GCsbDnPkvAja"
      },
      "source": [
        "画像も表示を確認します"
      ]
    },
    {
      "cell_type": "code",
      "source": [
        "img = Image.open('state.png')\n",
        "imshow(img)"
      ],
      "metadata": {
        "id": "Gjwo907wgwlV"
      },
      "execution_count": null,
      "outputs": []
    },
    {
      "cell_type": "markdown",
      "source": [
        "## LLMのテスト"
      ],
      "metadata": {
        "id": "MPUjdohlM8W7"
      }
    },
    {
      "cell_type": "markdown",
      "source": [
        "LLMが正しく画像を読み込んでプレイできるかテストします。\n",
        "MobileVLM V2をロードします。"
      ],
      "metadata": {
        "id": "YM6s77q5NAaf"
      }
    },
    {
      "cell_type": "markdown",
      "source": [
        "LLMで画像を読み込めるようにエンコードする関数を定義します。"
      ],
      "metadata": {
        "id": "g17kvG1miw59"
      }
    },
    {
      "cell_type": "code",
      "source": [
        "# MobileVLM V2\n",
        "model_path = \"mtgv/MobileVLM_V2-1.7B\"\n",
        "# model_path = \"mtgv/MobileVLM_V2-3B\"\n",
        "# model_path = \"mtgv/MobileVLM_V2-7B\"\n",
        "\n",
        "disable_torch_init()\n",
        "tokenizer, model, image_processor, context_len = load_pretrained_model(model_path, False, False)"
      ],
      "metadata": {
        "id": "RwqeWrDcQQEl"
      },
      "execution_count": null,
      "outputs": []
    },
    {
      "cell_type": "code",
      "source": [
        "import re\n",
        "\n",
        "def extract_numbers(text):\n",
        "    # 文字列から数値を抽出\n",
        "    numbers = re.findall(r'\\d+', text)\n",
        "\n",
        "    # 数値が見つからなければNoneを返す\n",
        "    if not numbers:\n",
        "        return None\n",
        "\n",
        "    # 数値を整数型に変換してリストで返す\n",
        "    return [int(num) for num in numbers]"
      ],
      "metadata": {
        "id": "Butziddii0zn"
      },
      "execution_count": 16,
      "outputs": []
    },
    {
      "cell_type": "markdown",
      "source": [
        "画像からマリオの動きを推論する関数を定義します。"
      ],
      "metadata": {
        "id": "NjZLLXFxOId5"
      }
    },
    {
      "cell_type": "code",
      "source": [
        "def predict(state):\n",
        "    # 入力画像を用意\n",
        "    image = Image.fromarray(state)\n",
        "    images_tensor = process_images([image], image_processor, model.config).to(model.device, dtype=torch.float16)\n",
        "\n",
        "    # プロンプトおよび設定\n",
        "    # 出力フォーマットを安定させるのは少々難しいので、行動IDのみ回答するように\n",
        "    prompt =\"Mario game screen. Which should I do: 0: Right or 1: Jump? Please answer using numbers only.\"\n",
        "    temperature = 0.5\n",
        "    do_sample = True\n",
        "    top_p = None\n",
        "    num_beams = 1\n",
        "    max_new_tokens = 512\n",
        "    conv_mode = \"v1\"\n",
        "\n",
        "    # プロンプト準備\n",
        "    conv = conv_templates[conv_mode].copy()\n",
        "    conv.append_message(conv.roles[0], DEFAULT_IMAGE_TOKEN + \"\\n\" + prompt)\n",
        "    conv.append_message(conv.roles[1], None)\n",
        "    input_prompt = conv.get_prompt()\n",
        "\n",
        "    # ID変換\n",
        "    input_ids = (tokenizer_image_token(input_prompt, tokenizer, IMAGE_TOKEN_INDEX, return_tensors=\"pt\").unsqueeze(0).cuda())\n",
        "    stop_str = conv.sep if conv.sep_style != SeparatorStyle.TWO else conv.sep2\n",
        "    stopping_criteria = KeywordsStoppingCriteria([stop_str], tokenizer, input_ids)\n",
        "\n",
        "    # 推論\n",
        "    with torch.inference_mode():\n",
        "        output_ids = model.generate(\n",
        "            input_ids,\n",
        "            images=images_tensor,\n",
        "            do_sample=True if temperature > 0 else False,\n",
        "            temperature=temperature,\n",
        "            top_p=top_p,\n",
        "            num_beams=num_beams,\n",
        "            max_new_tokens=max_new_tokens,\n",
        "            use_cache=True,\n",
        "            stopping_criteria=[stopping_criteria],\n",
        "        )\n",
        "\n",
        "    # 処理結果デコード\n",
        "    input_token_len = input_ids.shape[1]\n",
        "    n_diff_input_output = (input_ids != output_ids[:, :input_token_len]).sum().item()\n",
        "    if n_diff_input_output > 0:\n",
        "        print(f\"[Warning] {n_diff_input_output} output_ids are not the same as the input_ids\")\n",
        "    outputs = tokenizer.batch_decode(output_ids[:, input_token_len:], skip_special_tokens=True)[0]\n",
        "    outputs = outputs.strip()\n",
        "    if outputs.endswith(stop_str):\n",
        "        outputs = outputs[: -len(stop_str)]\n",
        "\n",
        "    output_text = outputs.strip()\n",
        "    result = extract_numbers(output_text)\n",
        "\n",
        "    content_dict = {}\n",
        "    if result is not None and len(result) > 0:\n",
        "        content_dict['action']  = result[0]\n",
        "    else:\n",
        "        content_dict['action']  = 0\n",
        "    content_dict['explanation'] = ''\n",
        "    content_dict['reason'] = ''\n",
        "\n",
        "    action = content_dict.get('action')\n",
        "    explanation = content_dict.get('explanation')\n",
        "    reason = content_dict.get('reason')\n",
        "\n",
        "    if action == None:\n",
        "        action = 0\n",
        "\n",
        "    return action, explanation, reason"
      ],
      "metadata": {
        "id": "q5KOCpBbybHx"
      },
      "execution_count": 17,
      "outputs": []
    },
    {
      "cell_type": "markdown",
      "source": [
        "推論する関数をテストします。"
      ],
      "metadata": {
        "id": "2FV5oR3pjAVY"
      }
    },
    {
      "cell_type": "code",
      "source": [
        "action, explanation, reason = predict(state)"
      ],
      "metadata": {
        "id": "L7QCjFe3mIuT"
      },
      "execution_count": 18,
      "outputs": []
    },
    {
      "cell_type": "markdown",
      "source": [
        "アクションを確認します。右に進む（`1`）かダッシュして右に進む（`2`）になっていることを確認します。"
      ],
      "metadata": {
        "id": "wE1GzOPojcrN"
      }
    },
    {
      "cell_type": "code",
      "source": [
        "action"
      ],
      "metadata": {
        "id": "k0gXFm1ijeVM",
        "colab": {
          "base_uri": "https://localhost:8080/"
        },
        "outputId": "9e3e08e4-edeb-43ac-b4aa-5edef65da8fa"
      },
      "execution_count": 19,
      "outputs": [
        {
          "output_type": "execute_result",
          "data": {
            "text/plain": [
              "1"
            ]
          },
          "metadata": {},
          "execution_count": 19
        }
      ]
    },
    {
      "cell_type": "markdown",
      "source": [
        "マリオの状況判断（画像の説明）を確認します"
      ],
      "metadata": {
        "id": "CYmmghUukm55"
      }
    },
    {
      "cell_type": "code",
      "source": [
        "explanation"
      ],
      "metadata": {
        "id": "Ir3ePLc6koub",
        "colab": {
          "base_uri": "https://localhost:8080/",
          "height": 36
        },
        "outputId": "25ae271e-5493-449f-cbc9-178b5a0413c9"
      },
      "execution_count": 20,
      "outputs": [
        {
          "output_type": "execute_result",
          "data": {
            "text/plain": [
              "''"
            ],
            "application/vnd.google.colaboratory.intrinsic+json": {
              "type": "string"
            }
          },
          "metadata": {},
          "execution_count": 20
        }
      ]
    },
    {
      "cell_type": "markdown",
      "source": [
        "行動の理由を確認します"
      ],
      "metadata": {
        "id": "wZROLsofqFLj"
      }
    },
    {
      "cell_type": "code",
      "source": [
        "reason"
      ],
      "metadata": {
        "id": "wRSO6nCvlHIG",
        "colab": {
          "base_uri": "https://localhost:8080/",
          "height": 36
        },
        "outputId": "34e7e4a4-8560-4494-81fb-442eb940aa8f"
      },
      "execution_count": 21,
      "outputs": [
        {
          "output_type": "execute_result",
          "data": {
            "text/plain": [
              "''"
            ],
            "application/vnd.google.colaboratory.intrinsic+json": {
              "type": "string"
            }
          },
          "metadata": {},
          "execution_count": 21
        }
      ]
    },
    {
      "cell_type": "markdown",
      "metadata": {
        "id": "gox1d_Nqir7z"
      },
      "source": [
        "## AIマリオのテスト\n",
        "\n",
        "AIモデルをテストします。"
      ]
    },
    {
      "cell_type": "markdown",
      "metadata": {
        "id": "M_5QHVsKFsn0"
      },
      "source": [
        "テスト回数等を設定します。"
      ]
    },
    {
      "cell_type": "code",
      "execution_count": 22,
      "metadata": {
        "id": "CdUGVdTzFqPm"
      },
      "outputs": [],
      "source": [
        "EPISODE_NUMBERS = 1\n",
        "MAX_TIMESTEP_TEST = 1000\n",
        "SKIP_RATE = 10"
      ]
    },
    {
      "cell_type": "code",
      "execution_count": null,
      "metadata": {
        "id": "BUtzYd9w-oCR"
      },
      "outputs": [],
      "source": [
        "import copy\n",
        "\n",
        "total_reward = [0] * EPISODE_NUMBERS\n",
        "total_time = [0] * EPISODE_NUMBERS\n",
        "best_reward = 0\n",
        "frames_best = []\n",
        "\n",
        "for i in range(EPISODE_NUMBERS):\n",
        "    state = env.reset()  # reset for each new trial\n",
        "    done = False\n",
        "    total_reward[i] = 0.0\n",
        "    total_time[i] = 0\n",
        "    skip_numb = SKIP_RATE\n",
        "    frames = []\n",
        "\n",
        "    while not done and total_time[i] < MAX_TIMESTEP_TEST:\n",
        "        if skip_numb < SKIP_RATE:\n",
        "            skip_numb += 1\n",
        "        else:\n",
        "            skip_numb = 0\n",
        "            action, explanation, reason = predict(state)\n",
        "\n",
        "            plt.imshow(state)\n",
        "            plt.pause(0.001)\n",
        "\n",
        "            print(f'action: {action}')\n",
        "            print(f'explanation: {explanation}')\n",
        "            print(f'reason: {reason}')\n",
        "\n",
        "        state, reward, done, info = env.step(action)\n",
        "        total_reward[i] += reward\n",
        "        total_time[i] += 1\n",
        "        frames.append(copy.deepcopy(env.render(mode = 'rgb_array')))\n",
        "\n",
        "    if total_reward[i] > best_reward:\n",
        "        best_reward = total_reward[i]\n",
        "        frames_best = copy.deepcopy(frames)\n",
        "\n",
        "    print('test episode:', i, 'reward:', total_reward[i], 'time:', total_time[i])\n",
        "\n",
        "    # Judgement Mario goal or not\n",
        "    if info['flag_get']:\n",
        "        print(f\"<<< Mario get the flag. GOOOOOOOOOOOOOOOOOOOOOAL! >>>\")\n",
        "        break\n",
        "\n",
        "print('average reward:', (sum(total_reward) / EPISODE_NUMBERS),\n",
        "      'average time:', (sum(total_time) / EPISODE_NUMBERS),\n",
        "      'best_reward:', best_reward)"
      ]
    },
    {
      "cell_type": "markdown",
      "metadata": {
        "id": "pWtYUKEb2Vz8"
      },
      "source": [
        "`<<< Mario get the flag. GOOOOOOOOOOOOOOOOOOOOOAL! >>>`という表示ができたらクリアできています。\n",
        "\n",
        "クリアできない場合は、複数回プレイして一番良いプレイ動画が保存されます。\n",
        "\n",
        "実行のたびに結果は変わります。何回か試してみましょう。"
      ]
    },
    {
      "cell_type": "markdown",
      "metadata": {
        "id": "pMKMuMaxgGF7"
      },
      "source": [
        "## AIマリオのプレイ動画を保存・再生\n",
        "\n",
        "保存した画像ログから動画を保存・再生します。"
      ]
    },
    {
      "cell_type": "markdown",
      "metadata": {
        "id": "mgGsIOl9jVnR"
      },
      "source": [
        "画像が多いと動画生成や確認に時間がかかるため、画像を間引きます。\n",
        "\n",
        "画像を間引く割合を入力します（大きいほどたくさん間引きます）。"
      ]
    },
    {
      "cell_type": "code",
      "execution_count": 24,
      "metadata": {
        "id": "e8Z_I4hFgJqw"
      },
      "outputs": [],
      "source": [
        "SKIP_RATE = 4"
      ]
    },
    {
      "cell_type": "markdown",
      "metadata": {
        "id": "YmWH8b0Ajb9P"
      },
      "source": [
        "画像を間引く処理をします。"
      ]
    },
    {
      "cell_type": "code",
      "execution_count": 25,
      "metadata": {
        "id": "QIxuzQ5ngKuP"
      },
      "outputs": [],
      "source": [
        "if SKIP_RATE == 1:\n",
        "  frames_new = np.array(frames_best)\n",
        "else:\n",
        "  np_frames = np.array(frames_best)\n",
        "  frames_new = np_frames[::SKIP_RATE].tolist()"
      ]
    },
    {
      "cell_type": "markdown",
      "metadata": {
        "id": "TcXrwSawjeUD"
      },
      "source": [
        "Google Colab上で確認できる動画を生成します。生成後に再生ボタンを押すと、AIマリオのプレイ動画が見れます。"
      ]
    },
    {
      "cell_type": "code",
      "execution_count": null,
      "metadata": {
        "id": "LlhmlKSFgKzt"
      },
      "outputs": [],
      "source": [
        "import matplotlib.animation\n",
        "from IPython.display import HTML\n",
        "\n",
        "matplotlib.rcParams['animation.embed_limit'] = 2**128\n",
        "plt.figure(figsize=(frames[0].shape[1] / 72.0, frames[0].shape[0] / 72.0), dpi = 72)\n",
        "patch = plt.imshow(frames_new[0])\n",
        "plt.axis('off')\n",
        "animate = lambda i: patch.set_data(frames_new[i])\n",
        "ani = matplotlib.animation.FuncAnimation(plt.gcf(), animate, frames=len(frames_new), interval = 50)\n",
        "HTML(ani.to_jshtml())"
      ]
    },
    {
      "cell_type": "markdown",
      "metadata": {
        "id": "etQCTXKoaSjf"
      },
      "source": [
        "動画形式で保存します。"
      ]
    },
    {
      "cell_type": "code",
      "execution_count": null,
      "metadata": {
        "id": "TL_icaAQXeKn"
      },
      "outputs": [],
      "source": [
        "ani.save('ai_mario.mp4')"
      ]
    },
    {
      "cell_type": "markdown",
      "metadata": {
        "id": "km__QtDolsp3"
      },
      "source": [
        "動画ファイルをダウンロードします。"
      ]
    },
    {
      "cell_type": "code",
      "execution_count": null,
      "metadata": {
        "id": "OpN14WKrlyXx"
      },
      "outputs": [],
      "source": [
        "from google.colab import files\n",
        "files.download('ai_mario.mp4')"
      ]
    },
    {
      "cell_type": "markdown",
      "metadata": {
        "id": "on4fZsea8c4m"
      },
      "source": [
        "GIFアニメ形式で保存します。"
      ]
    },
    {
      "cell_type": "code",
      "execution_count": null,
      "metadata": {
        "id": "hxpbxskf8ASM"
      },
      "outputs": [],
      "source": [
        "import imageio\n",
        "imageio.mimsave('ai_mario.gif', [np.array(img) for i, img in enumerate(frames_best) if i%SKIP_RATE == 0], fps=15)"
      ]
    },
    {
      "cell_type": "markdown",
      "metadata": {
        "id": "fHQMe1hA8hju"
      },
      "source": [
        "GIFアニメをダウンロードします。"
      ]
    },
    {
      "cell_type": "code",
      "execution_count": 30,
      "metadata": {
        "id": "56ds6rWK8FXL",
        "colab": {
          "base_uri": "https://localhost:8080/",
          "height": 17
        },
        "outputId": "fe0262ea-4ea4-432f-afb0-5b2c2441f657"
      },
      "outputs": [
        {
          "output_type": "display_data",
          "data": {
            "text/plain": [
              "<IPython.core.display.Javascript object>"
            ],
            "application/javascript": [
              "\n",
              "    async function download(id, filename, size) {\n",
              "      if (!google.colab.kernel.accessAllowed) {\n",
              "        return;\n",
              "      }\n",
              "      const div = document.createElement('div');\n",
              "      const label = document.createElement('label');\n",
              "      label.textContent = `Downloading \"${filename}\": `;\n",
              "      div.appendChild(label);\n",
              "      const progress = document.createElement('progress');\n",
              "      progress.max = size;\n",
              "      div.appendChild(progress);\n",
              "      document.body.appendChild(div);\n",
              "\n",
              "      const buffers = [];\n",
              "      let downloaded = 0;\n",
              "\n",
              "      const channel = await google.colab.kernel.comms.open(id);\n",
              "      // Send a message to notify the kernel that we're ready.\n",
              "      channel.send({})\n",
              "\n",
              "      for await (const message of channel.messages) {\n",
              "        // Send a message to notify the kernel that we're ready.\n",
              "        channel.send({})\n",
              "        if (message.buffers) {\n",
              "          for (const buffer of message.buffers) {\n",
              "            buffers.push(buffer);\n",
              "            downloaded += buffer.byteLength;\n",
              "            progress.value = downloaded;\n",
              "          }\n",
              "        }\n",
              "      }\n",
              "      const blob = new Blob(buffers, {type: 'application/binary'});\n",
              "      const a = document.createElement('a');\n",
              "      a.href = window.URL.createObjectURL(blob);\n",
              "      a.download = filename;\n",
              "      div.appendChild(a);\n",
              "      a.click();\n",
              "      div.remove();\n",
              "    }\n",
              "  "
            ]
          },
          "metadata": {}
        },
        {
          "output_type": "display_data",
          "data": {
            "text/plain": [
              "<IPython.core.display.Javascript object>"
            ],
            "application/javascript": [
              "download(\"download_91ac9dc5-a45d-45a6-a4a0-1e9051e729a4\", \"ai_mario.gif\", 256985)"
            ]
          },
          "metadata": {}
        }
      ],
      "source": [
        "from google.colab import files\n",
        "files.download('ai_mario.gif')"
      ]
    },
    {
      "cell_type": "markdown",
      "source": [
        "## リファレンス\n",
        "\n",
        "- https://platform.openai.com/docs/guides/vision\n",
        "- https://platform.openai.com/docs/guides/structured-outputs/introduction\n",
        "- https://openai.com/index/introducing-structured-outputs-in-the-api/\n",
        "- https://qiita.com/DEmodoriGatsuO/items/4c4734b78973970e0d3d\n",
        "- https://platform.openai.com/settings/organization/billing/overview"
      ],
      "metadata": {
        "id": "vB0GCIEjidqL"
      }
    }
  ],
  "metadata": {
    "accelerator": "GPU",
    "colab": {
      "provenance": []
    },
    "kernelspec": {
      "display_name": "Python 3",
      "language": "python",
      "name": "python3"
    },
    "language_info": {
      "codemirror_mode": {
        "name": "ipython",
        "version": 3
      },
      "file_extension": ".py",
      "mimetype": "text/x-python",
      "name": "python",
      "nbconvert_exporter": "python",
      "pygments_lexer": "ipython3",
      "version": "3.6.8"
    }
  },
  "nbformat": 4,
  "nbformat_minor": 0
}